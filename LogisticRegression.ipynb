{
 "cells": [
  {
   "cell_type": "code",
   "execution_count": null,
   "id": "18c8b09b",
   "metadata": {},
   "outputs": [
    {
     "name": "stdout",
     "output_type": "stream",
     "text": [
      "Accuracy: 0.8256880733944955\n",
      "\n",
      "Confusion Matrix:\n",
      " [[45  6]\n",
      " [13 45]]\n",
      "\n",
      "Classification Report:\n",
      "               precision    recall  f1-score   support\n",
      "\n",
      "           0       0.78      0.88      0.83        51\n",
      "           1       0.88      0.78      0.83        58\n",
      "\n",
      "    accuracy                           0.83       109\n",
      "   macro avg       0.83      0.83      0.83       109\n",
      "weighted avg       0.83      0.83      0.83       109\n",
      "\n"
     ]
    }
   ],
   "source": [
    "import pandas as pd\n",
    "from sklearn.model_selection import train_test_split\n",
    "from sklearn.preprocessing import LabelEncoder\n",
    "from sklearn.linear_model import LogisticRegression\n",
    "from sklearn.metrics import accuracy_score, confusion_matrix, classification_report\n",
    "\n",
    "df = pd.read_csv(\"/home/kali/Documents/CODE/AI/DataSet/Housing.csv\")\n",
    "\n",
    "median_price = df['price'].median()\n",
    "df['expensive'] = (df['price'] > median_price).astype(int)\n",
    "\n",
    "df.drop('price', axis=1, inplace=True)\n",
    "\n",
    "cat_columns = df.select_dtypes(include='object').columns\n",
    "le = LabelEncoder()\n",
    "for col in cat_columns:\n",
    "    df[col] = le.fit_transform(df[col])\n",
    "\n",
    "X = df.drop('expensive', axis=1)\n",
    "y = df['expensive']\n",
    "\n",
    "X_train, X_test, y_train, y_test = train_test_split(X, y, test_size=0.2, random_state=42)\n",
    "\n",
    "model = LogisticRegression(max_iter=1000)\n",
    "model.fit(X_train, y_train)\n",
    "\n",
    "y_pred = model.predict(X_test)\n",
    "\n",
    "print(\"Accuracy:\", accuracy_score(y_test, y_pred))\n",
    "print(\"\\nConfusion Matrix:\\n\", confusion_matrix(y_test, y_pred))\n",
    "print(\"\\nClassification Report:\\n\", classification_report(y_test, y_pred))\n"
   ]
  }
 ],
 "metadata": {
  "kernelspec": {
   "display_name": "venv",
   "language": "python",
   "name": "python3"
  },
  "language_info": {
   "codemirror_mode": {
    "name": "ipython",
    "version": 3
   },
   "file_extension": ".py",
   "mimetype": "text/x-python",
   "name": "python",
   "nbconvert_exporter": "python",
   "pygments_lexer": "ipython3",
   "version": "3.13.3"
  }
 },
 "nbformat": 4,
 "nbformat_minor": 5
}
